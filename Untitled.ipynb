{
 "cells": [
  {
   "cell_type": "code",
   "execution_count": 2,
   "metadata": {
    "collapsed": true
   },
   "outputs": [],
   "source": [
    "import sys\n",
    "import numpy as np\n",
    "\n",
    "def fgx():\n",
    "    print('------------------')"
   ]
  },
  {
   "cell_type": "code",
   "execution_count": 2,
   "metadata": {},
   "outputs": [
    {
     "name": "stdout",
     "output_type": "stream",
     "text": [
      "[2, 3, 4, 5]\n",
      "[1, 2, 3, 4, 5, 6]\n",
      "(2, 2, 2, 3)\n",
      "[1 2 3]\n"
     ]
    }
   ],
   "source": [
    "a=[1,2,3,4,5,6]\n",
    "print(a[1:-1])\n",
    "b=[[1,2,3,4,5,6],[5,7,8,1,5,3]]\n",
    "print(b[0])\n",
    "c=np.array([[[[1,2,3],[4,5,6]],\n",
    "             [[5,7,8],[1,5,3]]],\n",
    "            [[[1,4,3],[9,5,1]],\n",
    "             [[6,1,8],[0,5,9]]]])\n",
    "print(c.shape)\n",
    "print(c[0,0,0])"
   ]
  },
  {
   "cell_type": "code",
   "execution_count": 15,
   "metadata": {},
   "outputs": [
    {
     "name": "stdout",
     "output_type": "stream",
     "text": [
      "[[ 0.47855743 -3.85078354 -1.53329245]\n",
      " [-1.36729751  5.13819639  3.84105519]\n",
      " [-2.46335562 -1.93656684 -0.20145941]\n",
      " [-1.13029205 -7.22596261 -2.45284091]\n",
      " [ 0.81385013 -2.05382216 -4.53231331]]\n",
      "[[-0.93303837 -1.08717926 -1.27072235]\n",
      " [-1.45510988 -0.38789723  0.58691019]\n",
      " [-0.05210648  1.05286962 -0.99593232]\n",
      " [ 1.41026126  1.30685407  0.1877259 ]\n",
      " [-0.74230128 -0.01454365  0.17124234]]\n"
     ]
    }
   ],
   "source": [
    "# 前向传播\n",
    "W = np.random.randn(5, 10)\n",
    "X = np.random.randn(10, 3)\n",
    "D = W.dot(X)\n",
    "print(D)\n",
    "# 假设我们得到了D的梯度\n",
    "dD = np.random.randn(*D.shape) # 和D一样的尺寸\n",
    "print(dD)\n",
    "\n",
    "dW = dD.dot(X.T) #.T就是对矩阵进行转置\n",
    "dX = W.T.dot(dD)"
   ]
  },
  {
   "cell_type": "code",
   "execution_count": 31,
   "metadata": {},
   "outputs": [
    {
     "name": "stdout",
     "output_type": "stream",
     "text": [
      "(2, 2, 2, 3)\n",
      "[[[[0 0 0 0 0]\n",
      "   [0 1 2 3 0]\n",
      "   [0 4 5 6 0]\n",
      "   [0 0 0 0 0]]\n",
      "\n",
      "  [[0 0 0 0 0]\n",
      "   [0 5 7 8 0]\n",
      "   [0 1 5 3 0]\n",
      "   [0 0 0 0 0]]]\n",
      "\n",
      "\n",
      " [[[0 0 0 0 0]\n",
      "   [0 1 4 3 0]\n",
      "   [0 9 5 1 0]\n",
      "   [0 0 0 0 0]]\n",
      "\n",
      "  [[0 0 0 0 0]\n",
      "   [0 6 1 8 0]\n",
      "   [0 0 5 9 0]\n",
      "   [0 0 0 0 0]]]]\n",
      "----------\n",
      "[[[[1 2 3]\n",
      "   [4 5 6]]\n",
      "\n",
      "  [[5 7 8]\n",
      "   [1 5 3]]]\n",
      "\n",
      "\n",
      " [[[1 4 3]\n",
      "   [9 5 1]]\n",
      "\n",
      "  [[6 1 8]\n",
      "   [0 5 9]]]]\n",
      "================\n",
      "[[[[1 2 3]\n",
      "   [4 5 6]]\n",
      "\n",
      "  [[5 7 8]\n",
      "   [1 5 3]]]\n",
      "\n",
      "\n",
      " [[[1 4 3]\n",
      "   [9 5 1]]\n",
      "\n",
      "  [[6 1 8]\n",
      "   [0 5 9]]]]\n",
      "-------------\n",
      "[[[[1 2 3]\n",
      "   [4 5 6]]\n",
      "\n",
      "  [[5 7 8]\n",
      "   [1 5 3]]]\n",
      "\n",
      "\n",
      " [[[1 4 3]\n",
      "   [9 5 1]]\n",
      "\n",
      "  [[6 1 8]\n",
      "   [0 5 9]]]]\n",
      "None\n"
     ]
    }
   ],
   "source": [
    "d=np.array([[[[1,2,3],[4,5,6]],\n",
    "             [[5,7,8],[1,5,3]]],\n",
    "            [[[1,4,3],[9,5,1]],\n",
    "             [[6,1,8],[0,5,9]]]])\n",
    "print(d.shape)\n",
    "d_pad = np.pad(d, ((0,0),(0,0),(1,1),(1,1)), 'constant')\n",
    "print(d_pad)\n",
    "print('----------')\n",
    "print(d)\n",
    "v1 = d_pad[:, :, 1:3, 1:4]\n",
    "print('================')\n",
    "print(v1)\n",
    "print('-------------')\n",
    "print(np.ascontiguousarray(v1))"
   ]
  },
  {
   "cell_type": "code",
   "execution_count": 24,
   "metadata": {},
   "outputs": [
    {
     "name": "stdout",
     "output_type": "stream",
     "text": [
      "[[6 1 8]\n",
      " [0 5 9]]\n",
      "==============\n",
      "9\n"
     ]
    }
   ],
   "source": [
    "v2 = d_pad[1, 1, 1:3, 1:4]\n",
    "print(v2)\n",
    "v3 = np.max(v2)\n",
    "print('==============')\n",
    "print(v3)"
   ]
  },
  {
   "cell_type": "code",
   "execution_count": 26,
   "metadata": {},
   "outputs": [
    {
     "name": "stdout",
     "output_type": "stream",
     "text": [
      "[[False False False]\n",
      " [False False  True]]\n",
      "[[0 0 0]\n",
      " [0 0 2]]\n"
     ]
    }
   ],
   "source": [
    "print(v2 == v3)\n",
    "v4 = (v2 == v3) * 2\n",
    "print(v4)"
   ]
  },
  {
   "cell_type": "code",
   "execution_count": 30,
   "metadata": {},
   "outputs": [
    {
     "name": "stdout",
     "output_type": "stream",
     "text": [
      "[[[-0.84855964  1.28558861  1.03770581  0.83479218]\n",
      "  [ 0.0115124  -0.84215553 -0.32446608  0.0281736 ]\n",
      "  [ 1.33280488  0.08498604  0.2595941   0.78804412]]\n",
      "\n",
      " [[ 0.48038197  1.78278614  0.45512583  1.36695981]\n",
      "  [-0.45181212  0.81038486 -0.63451001  0.82076603]\n",
      "  [ 0.84422901  1.07544407 -1.3619344   0.21019269]]]\n",
      "8\n",
      "===============\n",
      "[[[ 0.74900348  0.97324316  0.65295017  0.1346518 ]\n",
      "  [ 0.79474152  0.08233186  0.34684716  0.81552506]\n",
      "  [ 0.40939464  0.85755833  0.55341758  0.04699515]]\n",
      "\n",
      " [[ 0.70547112  0.60159375  0.25009106  0.73164921]\n",
      "  [ 0.59572483  0.86641708  0.52339039  0.11875196]\n",
      "  [ 0.07788971  0.87971232  0.95596389  0.33950692]]]\n"
     ]
    }
   ],
   "source": [
    "# numpy.random.randn(d0, d1, …, dn)是从标准正态分布中返回一个或多个样本值。 \n",
    "v5 = np.random.randn(2,3,4) \n",
    "print(v5)\n",
    "print(v5.itemsize)#ndarray.itemsize 数组中每个元素的字节大小。\n",
    "#numpy.random.rand(d0, d1, …, dn)的随机样本位于[0, 1)中。 \n",
    "print('===============')\n",
    "print(np.random.rand(2,3,4))"
   ]
  },
  {
   "cell_type": "code",
   "execution_count": 11,
   "metadata": {},
   "outputs": [
    {
     "name": "stdout",
     "output_type": "stream",
     "text": [
      "==============\n",
      "v5\n",
      "[[[-0.57281222  1.63647813 -0.01001624  0.12099908]\n",
      "  [ 1.86281699 -0.17189628  1.04109187  0.76080775]\n",
      "  [ 0.34992925 -0.2841586  -2.35845322  1.48968662]]\n",
      "\n",
      " [[ 0.97378722 -0.89476958  0.19357427 -0.51198346]\n",
      "  [-0.6479183   1.33203661 -0.19470161 -1.10001457]\n",
      "  [ 1.55357055  1.18684046  1.15659932  2.24237035]]]\n",
      "b1\n",
      "[[[-1.80607319 -0.59861978]\n",
      "  [-0.91009902  1.58084548]]\n",
      "\n",
      " [[ 1.13638947 -0.1904187 ]\n",
      "  [ 0.13991721  1.82504289]]\n",
      "\n",
      " [[ 0.25003154  0.62023294]\n",
      "  [-0.23606672 -0.87215554]]]\n",
      "==========\n",
      "v5\n",
      "[[[ 0  1  0  0]\n",
      "  [ 1  0  1  0]\n",
      "  [ 0  0 -2  1]]\n",
      "\n",
      " [[ 0  0  0  0]\n",
      "  [ 0  1  0 -1]\n",
      "  [ 1  1  1  2]]]\n",
      "b1\n",
      "[[[-1  0]\n",
      "  [ 0  1]]\n",
      "\n",
      " [[ 1  0]\n",
      "  [ 0  1]]\n",
      "\n",
      " [[ 0  0]\n",
      "  [ 0  0]]]\n"
     ]
    }
   ],
   "source": [
    "p = {}\n",
    "p['v5'] = v5\n",
    "p['b1'] = np.random.randn(3,2,2)\n",
    "print('==============')\n",
    "for k, v in p.items():\n",
    "    print(k)\n",
    "    print(v)\n",
    "    p[k] = v.astype(np.int)\n",
    "\n",
    "\n",
    "print('==========')\n",
    "for k, v in p.items():\n",
    "    print(k)\n",
    "    print(v)\n",
    "    p[k] = v.astype(np.int)\n",
    "    "
   ]
  },
  {
   "cell_type": "code",
   "execution_count": 12,
   "metadata": {},
   "outputs": [
    {
     "name": "stdout",
     "output_type": "stream",
     "text": [
      "[ 0 12]\n"
     ]
    }
   ],
   "source": [
    "print(np.array([0, 12]))"
   ]
  },
  {
   "cell_type": "code",
   "execution_count": 24,
   "metadata": {},
   "outputs": [
    {
     "name": "stdout",
     "output_type": "stream",
     "text": [
      "[[[[2 8 7]\n",
      "   [1 6 5]\n",
      "   [9 4 3]]\n",
      "\n",
      "  [[9 5 4]\n",
      "   [7 3 2]\n",
      "   [1 6 8]]\n",
      "\n",
      "  [[6 1 3]\n",
      "   [8 4 9]\n",
      "   [7 5 2]]]\n",
      "\n",
      "\n",
      " [[[8 7 9]\n",
      "   [6 5 1]\n",
      "   [2 3 4]]\n",
      "\n",
      "  [[4 2 1]\n",
      "   [3 9 8]\n",
      "   [6 7 5]]\n",
      "\n",
      "  [[3 6 5]\n",
      "   [4 2 7]\n",
      "   [8 9 1]]]\n",
      "\n",
      "\n",
      " [[[1 9 8]\n",
      "   [5 7 3]\n",
      "   [4 2 6]]\n",
      "\n",
      "  [[5 4 2]\n",
      "   [9 1 6]\n",
      "   [3 8 7]]\n",
      "\n",
      "  [[7 3 6]\n",
      "   [2 8 4]\n",
      "   [5 1 9]]]]\n",
      "[[[[2 8 7]\n",
      "   [9 5 4]\n",
      "   [6 1 3]]\n",
      "\n",
      "  [[1 6 5]\n",
      "   [7 3 2]\n",
      "   [8 4 9]]\n",
      "\n",
      "  [[9 4 3]\n",
      "   [1 6 8]\n",
      "   [7 5 2]]]\n",
      "\n",
      "\n",
      " [[[8 7 9]\n",
      "   [4 2 1]\n",
      "   [3 6 5]]\n",
      "\n",
      "  [[6 5 1]\n",
      "   [3 9 8]\n",
      "   [4 2 7]]\n",
      "\n",
      "  [[2 3 4]\n",
      "   [6 7 5]\n",
      "   [8 9 1]]]\n",
      "\n",
      "\n",
      " [[[1 9 8]\n",
      "   [5 4 2]\n",
      "   [7 3 6]]\n",
      "\n",
      "  [[5 7 3]\n",
      "   [9 1 6]\n",
      "   [2 8 4]]\n",
      "\n",
      "  [[4 2 6]\n",
      "   [3 8 7]\n",
      "   [5 1 9]]]]\n",
      "================\n",
      "[[2 8 7 9 5 4 6 1 3]\n",
      " [1 6 5 7 3 2 8 4 9]\n",
      " [9 4 3 1 6 8 7 5 2]\n",
      " [8 7 9 4 2 1 3 6 5]\n",
      " [6 5 1 3 9 8 4 2 7]\n",
      " [2 3 4 6 7 5 8 9 1]\n",
      " [1 9 8 5 4 2 7 3 6]\n",
      " [5 7 3 9 1 6 2 8 4]\n",
      " [4 2 6 3 8 7 5 1 9]]\n"
     ]
    }
   ],
   "source": [
    "sudoku = np.array([   \n",
    "    [2, 8, 7, 1, 6, 5, 9, 4, 3],\n",
    "    [9, 5, 4, 7, 3, 2, 1, 6, 8],\n",
    "    [6, 1, 3, 8, 4, 9, 7, 5, 2],\n",
    "    [8, 7, 9, 6, 5, 1, 2, 3, 4],\n",
    "    [4, 2, 1, 3, 9, 8, 6, 7, 5],\n",
    "    [3, 6, 5, 4, 2, 7, 8, 9, 1],\n",
    "    [1, 9, 8, 5, 7, 3, 4, 2, 6],\n",
    "    [5, 4, 2, 9, 1, 6, 3, 8, 7],\n",
    "    [7, 3, 6, 2, 8, 4, 5, 1, 9]\n",
    "])\n",
    "shape = (3, 3, 3, 3)\n",
    "v6 = sudoku.reshape(shape)\n",
    "print(v6)\n",
    "#print('=========')\n",
    "\n",
    "\n",
    "strides = sudoku.itemsize * np.array([27, 3, 9, 1])\n",
    "\n",
    "squares = np.lib.stride_tricks.as_strided(sudoku, shape=shape, strides=strides) \n",
    "print(squares)\n",
    "print('================')\n",
    "x_cols = np.ascontiguousarray(squares)\n",
    "x_cols.shape = (9,9)\n",
    "print(x_cols)"
   ]
  },
  {
   "cell_type": "code",
   "execution_count": 20,
   "metadata": {},
   "outputs": [
    {
     "name": "stdout",
     "output_type": "stream",
     "text": [
      "4\n",
      "[27  3  9  1]\n",
      "========\n",
      "[108  12  36   4]\n"
     ]
    }
   ],
   "source": [
    "v66 = np.array([[2,5,1], [5,3,6]])\n",
    "print(v66.itemsize)\n",
    "v7 = np.array([27,3,9,1])\n",
    "print(v7)\n",
    "print('========')\n",
    "print(v66.itemsize*v7)"
   ]
  },
  {
   "cell_type": "code",
   "execution_count": 33,
   "metadata": {},
   "outputs": [
    {
     "name": "stdout",
     "output_type": "stream",
     "text": [
      "[[5 6 8]\n",
      " [3 4 7]]\n",
      "--------------\n",
      "[[5]\n",
      " [6]\n",
      " [8]\n",
      " [3]\n",
      " [4]\n",
      " [7]]\n",
      "--------------\n",
      "[[32]\n",
      " [24]]\n",
      "--------------\n",
      "[[32]\n",
      " [24]]\n"
     ]
    }
   ],
   "source": [
    "v8 = np.array([[5,6,8],[3,4,7]])\n",
    "print(v8)\n",
    "print('--------------')\n",
    "print(v8.reshape(-1,1))\n",
    "print('--------------')\n",
    "v9 = np.array([[2],[1],[2]])\n",
    "print(v8.dot(v9))\n",
    "print('--------------')\n",
    "print(np.dot(v8,v9))"
   ]
  },
  {
   "cell_type": "code",
   "execution_count": 39,
   "metadata": {},
   "outputs": [
    {
     "name": "stdout",
     "output_type": "stream",
     "text": [
      "[[5 6 8]\n",
      " [3 4 7]]\n",
      "8\n",
      "-------\n",
      "[[5 6 8]\n",
      " [5 5 7]]\n"
     ]
    }
   ],
   "source": [
    "print(v8)\n",
    "print(np.max(v8))\n",
    "print('-------')\n",
    "print(np.maximum(5,v8))"
   ]
  },
  {
   "cell_type": "code",
   "execution_count": 2,
   "metadata": {},
   "outputs": [
    {
     "name": "stdout",
     "output_type": "stream",
     "text": [
      "{'a': 11, 'b': 22}\n"
     ]
    }
   ],
   "source": [
    "v11 = {}\n",
    "v11['a'] = 11\n",
    "v11['b'] = 22\n",
    "v12 = {k: v for k, v in v11.items()}\n",
    "print(v12)"
   ]
  },
  {
   "cell_type": "code",
   "execution_count": 3,
   "metadata": {},
   "outputs": [
    {
     "name": "stdout",
     "output_type": "stream",
     "text": [
      "True\n"
     ]
    }
   ],
   "source": [
    "a = 0.5\n",
    "b = a > 0\n",
    "print(b)"
   ]
  },
  {
   "cell_type": "code",
   "execution_count": 10,
   "metadata": {},
   "outputs": [
    {
     "name": "stdout",
     "output_type": "stream",
     "text": [
      "[10, 15, 13, 15, 3]\n"
     ]
    }
   ],
   "source": [
    "v13 = 5\n",
    "v14 = 3\n",
    "v15 = 4\n",
    "v16 = [10] + [15,13,15] + [3]\n",
    "print(v16)"
   ]
  },
  {
   "cell_type": "code",
   "execution_count": 5,
   "metadata": {},
   "outputs": [
    {
     "name": "stdout",
     "output_type": "stream",
     "text": [
      "1\n",
      "2\n",
      "5\n",
      "------------------\n",
      "5\n"
     ]
    }
   ],
   "source": [
    "for i in [1,2,5]:\n",
    "    v17 = i\n",
    "    print(v17)\n",
    "fgx()\n",
    "print(v17)"
   ]
  },
  {
   "cell_type": "code",
   "execution_count": 4,
   "metadata": {},
   "outputs": [
    {
     "ename": "SyntaxError",
     "evalue": "invalid syntax (<ipython-input-4-d893c3b58675>, line 3)",
     "output_type": "error",
     "traceback": [
      "\u001b[1;36m  File \u001b[1;32m\"<ipython-input-4-d893c3b58675>\"\u001b[1;36m, line \u001b[1;32m3\u001b[0m\n\u001b[1;33m    print(ccx1.)\u001b[0m\n\u001b[1;37m               ^\u001b[0m\n\u001b[1;31mSyntaxError\u001b[0m\u001b[1;31m:\u001b[0m invalid syntax\n"
     ]
    }
   ],
   "source": [
    "ccx1 = {}\n",
    "ccx1['a'] = 1\n",
    "print(ccx1)"
   ]
  },
  {
   "cell_type": "code",
   "execution_count": 12,
   "metadata": {},
   "outputs": [
    {
     "name": "stdout",
     "output_type": "stream",
     "text": [
      "[[False False]\n",
      " [False False]\n",
      " [False  True]]\n",
      "[[ 0.          0.        ]\n",
      " [ 0.          0.        ]\n",
      " [ 0.          3.33333333]]\n",
      "------------------\n",
      "[[ 3.33333333  3.33333333]\n",
      " [ 3.33333333  0.        ]\n",
      " [ 0.          0.        ]]\n"
     ]
    }
   ],
   "source": [
    "ccx2 = np.array([[3,5],[6,3],[9,1]])\n",
    "mask = np.random.rand(*ccx2.shape) < 0.3\n",
    "print(mask)\n",
    "ccx3 = mask / 0.3\n",
    "print(ccx3)\n",
    "fgx()\n",
    "print((np.random.rand(*ccx2.shape) < 0.3)/0.3)"
   ]
  },
  {
   "cell_type": "code",
   "execution_count": 26,
   "metadata": {},
   "outputs": [
    {
     "name": "stdout",
     "output_type": "stream",
     "text": [
      "[ 0.00582022  0.00443197  0.00538473  0.00387633  0.00490997]\n"
     ]
    }
   ],
   "source": [
    "lrs = np.random.uniform(3e-3,6e-3,5)\n",
    "print(lrs)"
   ]
  },
  {
   "cell_type": "code",
   "execution_count": null,
   "metadata": {
    "collapsed": true
   },
   "outputs": [],
   "source": []
  }
 ],
 "metadata": {
  "kernelspec": {
   "display_name": "Python 3",
   "language": "python",
   "name": "python3"
  },
  "language_info": {
   "codemirror_mode": {
    "name": "ipython",
    "version": 3
   },
   "file_extension": ".py",
   "mimetype": "text/x-python",
   "name": "python",
   "nbconvert_exporter": "python",
   "pygments_lexer": "ipython3",
   "version": "3.6.3"
  }
 },
 "nbformat": 4,
 "nbformat_minor": 2
}
